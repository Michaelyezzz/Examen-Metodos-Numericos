{
 "cells": [
  {
   "cell_type": "markdown",
   "id": "26a9d172",
   "metadata": {},
   "source": [
    "### METODO DE LA SECANTE"
   ]
  },
  {
   "cell_type": "code",
   "execution_count": null,
   "id": "78f3b882",
   "metadata": {},
   "outputs": [
    {
     "name": "stdout",
     "output_type": "stream",
     "text": [
      "Total funciones llamdas: 0\n",
      "Raiz encontraada : 2.0945515632629395\n"
     ]
    }
   ],
   "source": [
    "def memoize(f):\n",
    "    \n",
    "    memo = {}\n",
    "    def helper(x):\n",
    "        if x not in memo:\n",
    "            memo[x] = f(x)\n",
    "        return memo[x]\n",
    "    return helper\n",
    "\n",
    "@memoize\n",
    "def f(x):\n",
    "    \n",
    "    return x**3 - 2*x - 5\n",
    "\n",
    "def bisection_method(a, b, tol=1e-6, max_iter=100):\n",
    " \n",
    "    if f(a) * f(b) >= 0:\n",
    "        raise ValueError(\"La funcion deberia tener signos opuesto en a y b\")\n",
    "    \n",
    "    calls = 0  \n",
    "    \n",
    "    for i in range(max_iter):\n",
    "        c = (a + b) / 2\n",
    "        fc = f(c)\n",
    "        fa = f(a)  \n",
    "        \n",
    "        if abs(fc) < tol:\n",
    "            print(f\"Total funciones llamadas: {calls}\")\n",
    "            return c\n",
    "            \n",
    "        if fa * fc < 0:\n",
    "            b = c\n",
    "        else:\n",
    "            a = c\n",
    "            \n",
    "    print(f\"Total ffunciones llamaadas: {calls}\")\n",
    "    return (a + b) / 2\n",
    "\n",
    "\n",
    "root = bisection_method(2, 3)\n",
    "print(f\"Raiz encontrada : {root}\")"
   ]
  }
 ],
 "metadata": {
  "kernelspec": {
   "display_name": "Python 3",
   "language": "python",
   "name": "python3"
  },
  "language_info": {
   "codemirror_mode": {
    "name": "ipython",
    "version": 3
   },
   "file_extension": ".py",
   "mimetype": "text/x-python",
   "name": "python",
   "nbconvert_exporter": "python",
   "pygments_lexer": "ipython3",
   "version": "3.13.3"
  }
 },
 "nbformat": 4,
 "nbformat_minor": 5
}
