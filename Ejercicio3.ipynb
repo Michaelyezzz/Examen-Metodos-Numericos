{
 "cells": [
  {
   "cell_type": "code",
   "execution_count": null,
   "id": "75183bbe",
   "metadata": {},
   "outputs": [],
   "source": [
    "import numpy as np\n",
    "import matplotlib.pyplot as plt\n",
    "\n",
    "x = np.array([4.1, 3.6, 3.3, 0.2, 9.8, 9.5, 3.2, 5.8, 0.7, 4.2, 5.4, 6.3, 0.3, 1.0, 9.3, 2.4, 4.7, 8.8, 5.2, 5.6, 4.8, 9.7, 7.5, 0.7, 8.2, 0.6, 2.3, 8.4, 0.4, 1.6, 1.5, 9.6, 6.6, 0.9, 8.2, 5.5, 9.4, 4.3, 6.4, 3.3, 2.8, 3.3, 0.9, 5.8, 4.3, 1.0, 5.4, 8.0, 8.6, 4.0, 8.9, 3.0, 9.2, 3.3, 8.9, 2.3, 1.9, 3.5, 4.3, 5.8, 8.9, 0.7, 5.8, 6.2, 2.4, 1.5, 0.2, 3.1, 6.2, 4.5, 3.1, 1.3, 2.0, -200.0, 0.4, 5.4, 4.6, 0.6, 1.6, 1.9, 2.2, 6.4, 1.1, 7.9, 8.1, 3.8, 1.1, 3.0, 5.6, 5.4, 0.3, 8.3, 8.5, 5.3, 1.5, 0.9, 2.7, 3.0, 8.0, 2.0, 9.4])\n",
    "y = np.array([5.4, 5.4, 5.3, 5.0, 6.1, 6.0, 5.3, 5.5, 5.2, 5.4, 5.7, 5.7, 5.1, 5.3, 5.7, 5.2, 5.5, 6.0, 5.5, 5.7, 5.5, 6.1, 5.9, 5.1, 5.9, 5.0, 5.3, 5.6, 5.1, 5.1, 5.1, 6.0, 5.5, 5.0, 6.1, 5.5, 5.9, 5.4, 5.6, 5.5, 5.3, 5.2, 5.3, 5.7, 5.5, 5.1, 5.5, 5.9, 5.8, 5.4, 5.8, 5.4, 5.9, 5.3, 5.9, 5.1, 5.1, 5.5, 5.4, 5.5, 5.9, 5.1, 5.6, 5.7, 5.3, 5.1, 5.1, 5.3, 5.6, 5.4, 5.3, 5.1, 5.3, 500, 5.1, 5.5, 5.6, 4.9, 5.2, 5.2, 5.4, 5.5, 5.0, 5.8, 5.6, 5.3, 4.9, 5.4, 5.6, 5.5, 5.1, 6.1, 5.8, 5.6, 5.1, 5.1, 5.3, 5.3, 5.7, 5.2, 6.0])\n",
    "\n",
    "q1, q3 = np.percentile(y, [25, 75])\n",
    "iqr = q3 - q1\n",
    "lower_bound = q1 - 1.5 * iqr\n",
    "upper_bound = q3 + 1.5 * iqr\n",
    "\n",
    "mask = (y >= lower_bound) & (y <= upper_bound)\n",
    "x_filtered = x[mask]\n",
    "y_filtered = y[mask]\n",
    "\n",
    "degree = 1  \n",
    "coefficients = np.polyfit(x_filtered, y_filtered, degree)\n",
    "polynomial = np.poly1d(coefficients)\n",
    "\n",
    "x_fit = np.linspace(min(x_filtered), max(x_filtered), 500)\n",
    "y_fit = polynomial(x_fit)\n",
    "\n",
    "plt.figure(figsize=(10, 6))\n",
    "plt.scatter(x_filtered, y_filtered, color='blue', label='Puntos filtrados')\n",
    "plt.scatter(x[~mask], y[~mask], color='red', label='Outliers')\n",
    "plt.plot(x_fit, y_fit, color='green', label=f'Ajuste (grado {degree})')\n",
    "plt.title('Interpolación por Mínimos Cuadrados')\n",
    "plt.xlabel('x')\n",
    "plt.ylabel('y')\n",
    "plt.legend()\n",
    "plt.grid(True)\n",
    "plt.show()\n",
    "\n",
    "print(\"Coeficientes del polinomio ajustado:\")\n",
    "for i, coef in enumerate(coefficients[::-1]):\n",
    "    print(f\"a{i} = {coef:.6f}\")"
   ]
  }
 ],
 "metadata": {
  "kernelspec": {
   "display_name": "Python 3",
   "language": "python",
   "name": "python3"
  },
  "language_info": {
   "codemirror_mode": {
    "name": "ipython",
    "version": 3
   },
   "file_extension": ".py",
   "mimetype": "text/x-python",
   "name": "python",
   "nbconvert_exporter": "python",
   "pygments_lexer": "ipython3",
   "version": "3.13.3"
  }
 },
 "nbformat": 4,
 "nbformat_minor": 5
}
